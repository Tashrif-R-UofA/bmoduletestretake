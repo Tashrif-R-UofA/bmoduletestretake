{
 "cells": [
  {
   "cell_type": "markdown",
   "metadata": {},
   "source": [
    "# B | Module Test"
   ]
  },
  {
   "cell_type": "markdown",
   "metadata": {},
   "source": [
    "## Part I - Core Questions\n",
    "\n",
    "### Question 1"
   ]
  },
  {
   "cell_type": "code",
   "execution_count": 1,
   "metadata": {
    "tags": []
   },
   "outputs": [],
   "source": [
    "# git config --global user.email \"tashrif.rayhan@gmail.com\"\n",
    "# git config --global user.name \"Tashrif-R-UofA\"\n",
    "# git clone https://github.com/Tashrif-R-UofA/bmoduletestretake.git\n",
    "# cd /root/sandbox/bmoduletestretake\n",
    "# mkdir qn-1\n",
    "# mkdir qn-2\n",
    "# mkdir qn-3\n",
    "# mkdir qn-4\n",
    "# mkdir qn-5\n",
    "\n",
    "# cd /root/sandbox/bmoduletestretake/qn-1\n",
    "# touch submit.txt\n",
    "# echo \"Before submitting, check that you have added the following files to your GitHub repository: \\n - your Jupyter Notebook, and \\n- all files and directories created during the module test\" > submit.txt\n",
    "# #I used the above line of code to demonstrate the use of bash command to incorporate the given text in the file named submit.txt \n",
    "\n",
    "# git add qn-1\n",
    "# git add qn-2\n",
    "# git add qn-3\n",
    "# git add qn-4\n",
    "# git add qn-5\n",
    "# git commit -m \"added all directories and the file\"\n",
    "# git push"
   ]
  },
  {
   "cell_type": "markdown",
   "metadata": {},
   "source": [
    "### Question 2"
   ]
  },
  {
   "cell_type": "markdown",
   "metadata": {
    "tags": []
   },
   "source": [
    "Your solution to this question should be a file, **explore.sh**, added to your GitHub repository."
   ]
  },
  {
   "cell_type": "code",
   "execution_count": 2,
   "metadata": {},
   "outputs": [],
   "source": []
  },
  {
   "cell_type": "markdown",
   "metadata": {},
   "source": [
    "### Question 3"
   ]
  },
  {
   "cell_type": "code",
   "execution_count": 3,
   "metadata": {
    "tags": []
   },
   "outputs": [],
   "source": [
    "Normal Test Case \n",
    "a=250, b=150\n",
    "a=160.0, b=110\n",
    "# For legitimate ideal values\n",
    "\n",
    "Edge Cases \n",
    "a=494949.0, b=-494949\n",
    "a = -79797979, b=9800000\n",
    "# For boundary Values\n",
    "\n",
    "\n",
    "Unintended Values\n",
    "a=9999999, b= pi\n",
    "a=Sixer, b=-1234.567\n",
    "# For incorrect inputs "
   ]
  },
  {
   "cell_type": "markdown",
   "metadata": {
    "tags": []
   },
   "source": [
    "### Question 4\n",
    "\n"
   ]
  },
  {
   "cell_type": "code",
   "execution_count": 4,
   "metadata": {},
   "outputs": [],
   "source": [
    "import pdb\n",
    "\n",
    "def absolute_difference (a, b):\n",
    "    if (a < b):\n",
    "        pdb.set_trace()\n",
    "        a = b\n",
    "        b = a\n",
    "\n",
    "    return a - b\n",
    "\n",
    "diff = absolute_difference(1.0, 2)\n",
    "\n",
    "print(diff)\n",
    "\n",
    "# I first ran the Code\n",
    "\n",
    "# Then I imported the pdb debugger at the top line of the code\n",
    "\n",
    "# After that, using the Set Trace point below the If condition, in the line 5\n",
    "\n",
    "# Then I used the l command to print the top 5 and the bottom 5 lines of the code\n",
    "\n",
    "# After that I executed the following:\n",
    "\n",
    "# b C:\\Users\\user\\b-module-test-retake-1.ipynb:5 to set breakpoint at line 5\n",
    "\n",
    "# b C:\\Users\\user\\b-module-test-retake-1.ipynb::6 to set breakpoint at line 6\n",
    "\n",
    "# p (a, b, diff) to print the values of all the values\n",
    "\n",
    "# s step to next line and then p (a, b, diff) to repeat it and verify the values of updated a and b from old a and b\n",
    "\n",
    "# We know that after the steps the value of a and b is not swapped, rather it's overwritten because of set_trace()), thus returning the output result of 0 for a<b condition.\n",
    "\n",
    "# So our optimum solution would be to include a z variable which can hold the value of each variable when they are swapped(considering the conditon is true)"
   ]
  },
  {
   "cell_type": "code",
   "execution_count": 5,
   "metadata": {},
   "outputs": [],
   "source": [
    "# Write your corrected program here:\n",
    "\n",
    "def absolute_difference (a, b):\n",
    "    z = 0\n",
    "    if (a < b):\n",
    "        z = a\n",
    "        a = b\n",
    "        b = z      \n",
    "\n",
    "    return a - b\n",
    "\n",
    "diff = absolute_difference(100, 10.0)\n",
    "\n",
    "print(diff)"
   ]
  },
  {
   "cell_type": "markdown",
   "metadata": {},
   "source": [
    "## Part II - Higher Order Question\n",
    "\n",
    "### Question 5"
   ]
  },
  {
   "cell_type": "markdown",
   "metadata": {},
   "source": [
    "Your solution to this question should **also** include the file, **list-readme.sh**, added to your repository."
   ]
  },
  {
   "cell_type": "code",
   "execution_count": null,
   "metadata": {},
   "outputs": [],
   "source": [
    "# git branch readme \n",
    "# git checkout readme\n",
    "# git mv qn-1/submit.txt qn-1/submit-checklist.txt\n",
    "# echo \"Finally, ensure that you push your changes to GitHub.\" >> qn-1/submit-checklist.txt\n",
    "# ls\n",
    "# cd qn-5\n",
    "# touch README.md\n",
    "# echo \"# This ReadMe contains important information. \" > README.md\n",
    "# mkdir basement\n",
    "# cp -r README.md basement/README.txt\n",
    "# diff qn-5/README.md qn-5/basement/README.txt\n",
    "# touch list-readme.sh\n",
    "\n",
    "# git add .\n",
    "# git commit -m \" Commit for Qn-5\" \n",
    "# git checkout main\n",
    "# git merge readme\n",
    "# git status\n",
    "# #after merging we just directly pushed it to github since git status didn't show any changes to be staged and committed.\n",
    "# git push"
   ]
  }
 ],
 "metadata": {
  "celltoolbar": "Edit Metadata",
  "kernelspec": {
   "display_name": "Python 3 (ipykernel)",
   "language": "python",
   "name": "python3"
  },
  "language_info": {
   "codemirror_mode": {
    "name": "ipython",
    "version": 3
   },
   "file_extension": ".py",
   "mimetype": "text/x-python",
   "name": "python",
   "nbconvert_exporter": "python",
   "pygments_lexer": "ipython3",
   "version": "3.9.12"
  },
  "varInspector": {
   "cols": {
    "lenName": 16,
    "lenType": 16,
    "lenVar": 40
   },
   "kernels_config": {
    "python": {
     "delete_cmd_postfix": "",
     "delete_cmd_prefix": "del ",
     "library": "var_list.py",
     "varRefreshCmd": "print(var_dic_list())"
    },
    "r": {
     "delete_cmd_postfix": ") ",
     "delete_cmd_prefix": "rm(",
     "library": "var_list.r",
     "varRefreshCmd": "cat(var_dic_list()) "
    }
   },
   "types_to_exclude": [
    "module",
    "function",
    "builtin_function_or_method",
    "instance",
    "_Feature"
   ],
   "window_display": false
  }
 },
 "nbformat": 4,
 "nbformat_minor": 4
}
